{
 "cells": [
  {
   "cell_type": "code",
   "execution_count": 1,
   "id": "ad7d002a",
   "metadata": {},
   "outputs": [],
   "source": [
    "import pandas as pd\n",
    "import seaborn as sns\n",
    "import numpy as np\n",
    "import matplotlib.pyplot as plt\n",
    "%matplotlib inline\n",
    "# %config InlineBackend.figure_format = 'retina'\n",
    "%config InlineBackend.figure_format = 'svg'"
   ]
  },
  {
   "cell_type": "code",
   "execution_count": 2,
   "id": "9b75f5ea",
   "metadata": {},
   "outputs": [
    {
     "name": "stdout",
     "output_type": "stream",
     "text": [
      "pandas  version: 1.4.4\n",
      "numpy   version: 1.21.5\n",
      "seaborn version: 0.11.2\n"
     ]
    }
   ],
   "source": [
    "print(f\"pandas  version: {pd.__version__}\")\n",
    "print(f\"numpy   version: {np.__version__}\")\n",
    "print(f\"seaborn version: {sns.__version__}\")"
   ]
  },
  {
   "cell_type": "code",
   "execution_count": 3,
   "id": "47d09a82",
   "metadata": {},
   "outputs": [
    {
     "data": {
      "text/html": [
       "<div>\n",
       "<style scoped>\n",
       "    .dataframe tbody tr th:only-of-type {\n",
       "        vertical-align: middle;\n",
       "    }\n",
       "\n",
       "    .dataframe tbody tr th {\n",
       "        vertical-align: top;\n",
       "    }\n",
       "\n",
       "    .dataframe thead th {\n",
       "        text-align: right;\n",
       "    }\n",
       "</style>\n",
       "<table border=\"1\" class=\"dataframe\">\n",
       "  <thead>\n",
       "    <tr style=\"text-align: right;\">\n",
       "      <th></th>\n",
       "      <th>Number</th>\n",
       "      <th>CB_IR_Test</th>\n",
       "      <th>CB_IR_Wi</th>\n",
       "      <th>CB_ConT_Test</th>\n",
       "      <th>CB_ConT_Wi</th>\n",
       "      <th>CB_CR_Test</th>\n",
       "      <th>CB_CR_Wi</th>\n",
       "      <th>CB_SF6Press_Test</th>\n",
       "      <th>CB_SF6Press_Wi</th>\n",
       "      <th>CB_SF6Dew_Test</th>\n",
       "      <th>...</th>\n",
       "      <th>LA_IP_Test</th>\n",
       "      <th>LA_IP_Wi</th>\n",
       "      <th>LA_Fas_Test</th>\n",
       "      <th>LA_Fas_Wi</th>\n",
       "      <th>LA_UC_Test</th>\n",
       "      <th>LA_UC_Wi</th>\n",
       "      <th>LA_Ter_Test</th>\n",
       "      <th>LA_Ter_Wi</th>\n",
       "      <th>HI_Total</th>\n",
       "      <th>Assessment</th>\n",
       "    </tr>\n",
       "  </thead>\n",
       "  <tbody>\n",
       "    <tr>\n",
       "      <th>7</th>\n",
       "      <td>8</td>\n",
       "      <td>10</td>\n",
       "      <td>10</td>\n",
       "      <td>30.000000</td>\n",
       "      <td>10</td>\n",
       "      <td>0</td>\n",
       "      <td>10</td>\n",
       "      <td>10.0</td>\n",
       "      <td>10</td>\n",
       "      <td>-10.0</td>\n",
       "      <td>...</td>\n",
       "      <td>1</td>\n",
       "      <td>16.666667</td>\n",
       "      <td>0</td>\n",
       "      <td>16.666667</td>\n",
       "      <td>0</td>\n",
       "      <td>16.666667</td>\n",
       "      <td>0</td>\n",
       "      <td>16.666667</td>\n",
       "      <td>92.902778</td>\n",
       "      <td>High</td>\n",
       "    </tr>\n",
       "    <tr>\n",
       "      <th>122</th>\n",
       "      <td>123</td>\n",
       "      <td>10</td>\n",
       "      <td>10</td>\n",
       "      <td>0.000000</td>\n",
       "      <td>10</td>\n",
       "      <td>0</td>\n",
       "      <td>10</td>\n",
       "      <td>5.2</td>\n",
       "      <td>10</td>\n",
       "      <td>-10.0</td>\n",
       "      <td>...</td>\n",
       "      <td>1</td>\n",
       "      <td>16.666667</td>\n",
       "      <td>0</td>\n",
       "      <td>16.666667</td>\n",
       "      <td>1</td>\n",
       "      <td>16.666667</td>\n",
       "      <td>1</td>\n",
       "      <td>16.666667</td>\n",
       "      <td>77.708333</td>\n",
       "      <td>Medium</td>\n",
       "    </tr>\n",
       "    <tr>\n",
       "      <th>115</th>\n",
       "      <td>116</td>\n",
       "      <td>10</td>\n",
       "      <td>10</td>\n",
       "      <td>0.000000</td>\n",
       "      <td>10</td>\n",
       "      <td>0</td>\n",
       "      <td>10</td>\n",
       "      <td>5.2</td>\n",
       "      <td>10</td>\n",
       "      <td>-10.0</td>\n",
       "      <td>...</td>\n",
       "      <td>1</td>\n",
       "      <td>16.666667</td>\n",
       "      <td>1</td>\n",
       "      <td>16.666667</td>\n",
       "      <td>1</td>\n",
       "      <td>16.666667</td>\n",
       "      <td>1</td>\n",
       "      <td>16.666667</td>\n",
       "      <td>79.527778</td>\n",
       "      <td>Medium</td>\n",
       "    </tr>\n",
       "    <tr>\n",
       "      <th>28</th>\n",
       "      <td>29</td>\n",
       "      <td>10</td>\n",
       "      <td>10</td>\n",
       "      <td>0.000000</td>\n",
       "      <td>10</td>\n",
       "      <td>0</td>\n",
       "      <td>10</td>\n",
       "      <td>10.0</td>\n",
       "      <td>10</td>\n",
       "      <td>-10.0</td>\n",
       "      <td>...</td>\n",
       "      <td>1</td>\n",
       "      <td>16.666667</td>\n",
       "      <td>0</td>\n",
       "      <td>16.666667</td>\n",
       "      <td>0</td>\n",
       "      <td>16.666667</td>\n",
       "      <td>0</td>\n",
       "      <td>16.666667</td>\n",
       "      <td>98.000000</td>\n",
       "      <td>High</td>\n",
       "    </tr>\n",
       "    <tr>\n",
       "      <th>27</th>\n",
       "      <td>28</td>\n",
       "      <td>10</td>\n",
       "      <td>10</td>\n",
       "      <td>0.000000</td>\n",
       "      <td>10</td>\n",
       "      <td>0</td>\n",
       "      <td>10</td>\n",
       "      <td>5.1</td>\n",
       "      <td>10</td>\n",
       "      <td>-10.0</td>\n",
       "      <td>...</td>\n",
       "      <td>1</td>\n",
       "      <td>16.666667</td>\n",
       "      <td>0</td>\n",
       "      <td>16.666667</td>\n",
       "      <td>1</td>\n",
       "      <td>16.666667</td>\n",
       "      <td>0</td>\n",
       "      <td>16.666667</td>\n",
       "      <td>92.625000</td>\n",
       "      <td>High</td>\n",
       "    </tr>\n",
       "    <tr>\n",
       "      <th>...</th>\n",
       "      <td>...</td>\n",
       "      <td>...</td>\n",
       "      <td>...</td>\n",
       "      <td>...</td>\n",
       "      <td>...</td>\n",
       "      <td>...</td>\n",
       "      <td>...</td>\n",
       "      <td>...</td>\n",
       "      <td>...</td>\n",
       "      <td>...</td>\n",
       "      <td>...</td>\n",
       "      <td>...</td>\n",
       "      <td>...</td>\n",
       "      <td>...</td>\n",
       "      <td>...</td>\n",
       "      <td>...</td>\n",
       "      <td>...</td>\n",
       "      <td>...</td>\n",
       "      <td>...</td>\n",
       "      <td>...</td>\n",
       "      <td>...</td>\n",
       "    </tr>\n",
       "    <tr>\n",
       "      <th>96</th>\n",
       "      <td>97</td>\n",
       "      <td>70</td>\n",
       "      <td>10</td>\n",
       "      <td>0.052632</td>\n",
       "      <td>10</td>\n",
       "      <td>0</td>\n",
       "      <td>10</td>\n",
       "      <td>6.8</td>\n",
       "      <td>10</td>\n",
       "      <td>-10.0</td>\n",
       "      <td>...</td>\n",
       "      <td>1</td>\n",
       "      <td>16.666667</td>\n",
       "      <td>0</td>\n",
       "      <td>16.666667</td>\n",
       "      <td>0</td>\n",
       "      <td>16.666667</td>\n",
       "      <td>0</td>\n",
       "      <td>16.666667</td>\n",
       "      <td>100.000000</td>\n",
       "      <td>High</td>\n",
       "    </tr>\n",
       "    <tr>\n",
       "      <th>88</th>\n",
       "      <td>89</td>\n",
       "      <td>10</td>\n",
       "      <td>10</td>\n",
       "      <td>0.000000</td>\n",
       "      <td>10</td>\n",
       "      <td>0</td>\n",
       "      <td>10</td>\n",
       "      <td>6.7</td>\n",
       "      <td>10</td>\n",
       "      <td>-10.0</td>\n",
       "      <td>...</td>\n",
       "      <td>1</td>\n",
       "      <td>16.666667</td>\n",
       "      <td>0</td>\n",
       "      <td>16.666667</td>\n",
       "      <td>0</td>\n",
       "      <td>16.666667</td>\n",
       "      <td>0</td>\n",
       "      <td>16.666667</td>\n",
       "      <td>100.000000</td>\n",
       "      <td>High</td>\n",
       "    </tr>\n",
       "    <tr>\n",
       "      <th>125</th>\n",
       "      <td>126</td>\n",
       "      <td>10</td>\n",
       "      <td>10</td>\n",
       "      <td>55.000000</td>\n",
       "      <td>10</td>\n",
       "      <td>0</td>\n",
       "      <td>10</td>\n",
       "      <td>6.6</td>\n",
       "      <td>10</td>\n",
       "      <td>-10.0</td>\n",
       "      <td>...</td>\n",
       "      <td>1</td>\n",
       "      <td>16.666667</td>\n",
       "      <td>1</td>\n",
       "      <td>16.666667</td>\n",
       "      <td>1</td>\n",
       "      <td>16.666667</td>\n",
       "      <td>1</td>\n",
       "      <td>16.666667</td>\n",
       "      <td>74.152778</td>\n",
       "      <td>Medium</td>\n",
       "    </tr>\n",
       "    <tr>\n",
       "      <th>32</th>\n",
       "      <td>33</td>\n",
       "      <td>10</td>\n",
       "      <td>10</td>\n",
       "      <td>0.000000</td>\n",
       "      <td>10</td>\n",
       "      <td>0</td>\n",
       "      <td>10</td>\n",
       "      <td>10.0</td>\n",
       "      <td>10</td>\n",
       "      <td>-10.0</td>\n",
       "      <td>...</td>\n",
       "      <td>1</td>\n",
       "      <td>16.666667</td>\n",
       "      <td>1</td>\n",
       "      <td>16.666667</td>\n",
       "      <td>0</td>\n",
       "      <td>16.666667</td>\n",
       "      <td>0</td>\n",
       "      <td>16.666667</td>\n",
       "      <td>95.625000</td>\n",
       "      <td>High</td>\n",
       "    </tr>\n",
       "    <tr>\n",
       "      <th>59</th>\n",
       "      <td>60</td>\n",
       "      <td>10</td>\n",
       "      <td>10</td>\n",
       "      <td>-0.044186</td>\n",
       "      <td>10</td>\n",
       "      <td>0</td>\n",
       "      <td>10</td>\n",
       "      <td>5.3</td>\n",
       "      <td>10</td>\n",
       "      <td>-10.0</td>\n",
       "      <td>...</td>\n",
       "      <td>1</td>\n",
       "      <td>16.666667</td>\n",
       "      <td>1</td>\n",
       "      <td>16.666667</td>\n",
       "      <td>0</td>\n",
       "      <td>16.666667</td>\n",
       "      <td>0</td>\n",
       "      <td>16.666667</td>\n",
       "      <td>92.625000</td>\n",
       "      <td>High</td>\n",
       "    </tr>\n",
       "  </tbody>\n",
       "</table>\n",
       "<p>133 rows × 89 columns</p>\n",
       "</div>"
      ],
      "text/plain": [
       "     Number  CB_IR_Test  CB_IR_Wi  CB_ConT_Test  CB_ConT_Wi  CB_CR_Test  \\\n",
       "7         8          10        10     30.000000          10           0   \n",
       "122     123          10        10      0.000000          10           0   \n",
       "115     116          10        10      0.000000          10           0   \n",
       "28       29          10        10      0.000000          10           0   \n",
       "27       28          10        10      0.000000          10           0   \n",
       "..      ...         ...       ...           ...         ...         ...   \n",
       "96       97          70        10      0.052632          10           0   \n",
       "88       89          10        10      0.000000          10           0   \n",
       "125     126          10        10     55.000000          10           0   \n",
       "32       33          10        10      0.000000          10           0   \n",
       "59       60          10        10     -0.044186          10           0   \n",
       "\n",
       "     CB_CR_Wi  CB_SF6Press_Test  CB_SF6Press_Wi  CB_SF6Dew_Test  ...  \\\n",
       "7          10              10.0              10           -10.0  ...   \n",
       "122        10               5.2              10           -10.0  ...   \n",
       "115        10               5.2              10           -10.0  ...   \n",
       "28         10              10.0              10           -10.0  ...   \n",
       "27         10               5.1              10           -10.0  ...   \n",
       "..        ...               ...             ...             ...  ...   \n",
       "96         10               6.8              10           -10.0  ...   \n",
       "88         10               6.7              10           -10.0  ...   \n",
       "125        10               6.6              10           -10.0  ...   \n",
       "32         10              10.0              10           -10.0  ...   \n",
       "59         10               5.3              10           -10.0  ...   \n",
       "\n",
       "     LA_IP_Test   LA_IP_Wi  LA_Fas_Test  LA_Fas_Wi  LA_UC_Test   LA_UC_Wi  \\\n",
       "7             1  16.666667            0  16.666667           0  16.666667   \n",
       "122           1  16.666667            0  16.666667           1  16.666667   \n",
       "115           1  16.666667            1  16.666667           1  16.666667   \n",
       "28            1  16.666667            0  16.666667           0  16.666667   \n",
       "27            1  16.666667            0  16.666667           1  16.666667   \n",
       "..          ...        ...          ...        ...         ...        ...   \n",
       "96            1  16.666667            0  16.666667           0  16.666667   \n",
       "88            1  16.666667            0  16.666667           0  16.666667   \n",
       "125           1  16.666667            1  16.666667           1  16.666667   \n",
       "32            1  16.666667            1  16.666667           0  16.666667   \n",
       "59            1  16.666667            1  16.666667           0  16.666667   \n",
       "\n",
       "     LA_Ter_Test  LA_Ter_Wi    HI_Total  Assessment  \n",
       "7              0  16.666667   92.902778        High  \n",
       "122            1  16.666667   77.708333      Medium  \n",
       "115            1  16.666667   79.527778      Medium  \n",
       "28             0  16.666667   98.000000        High  \n",
       "27             0  16.666667   92.625000        High  \n",
       "..           ...        ...         ...         ...  \n",
       "96             0  16.666667  100.000000        High  \n",
       "88             0  16.666667  100.000000        High  \n",
       "125            1  16.666667   74.152778      Medium  \n",
       "32             0  16.666667   95.625000        High  \n",
       "59             0  16.666667   92.625000        High  \n",
       "\n",
       "[133 rows x 89 columns]"
      ]
     },
     "execution_count": 3,
     "metadata": {},
     "output_type": "execute_result"
    }
   ],
   "source": [
    "df = pd.read_excel(\"decisiontreeExcel.xlsx\")\n",
    "df.sample(133)"
   ]
  },
  {
   "cell_type": "code",
   "execution_count": 4,
   "id": "bfc6a3bc",
   "metadata": {},
   "outputs": [
    {
     "name": "stdout",
     "output_type": "stream",
     "text": [
      "<class 'pandas.core.frame.DataFrame'>\n",
      "RangeIndex: 133 entries, 0 to 132\n",
      "Data columns (total 89 columns):\n",
      " #   Column            Non-Null Count  Dtype  \n",
      "---  ------            --------------  -----  \n",
      " 0   Number            133 non-null    int64  \n",
      " 1   CB_IR_Test        133 non-null    int64  \n",
      " 2   CB_IR_Wi          133 non-null    int64  \n",
      " 3   CB_ConT_Test      133 non-null    float64\n",
      " 4   CB_ConT_Wi        133 non-null    int64  \n",
      " 5   CB_CR_Test        133 non-null    int64  \n",
      " 6   CB_CR_Wi          133 non-null    int64  \n",
      " 7   CB_SF6Press_Test  133 non-null    float64\n",
      " 8   CB_SF6Press_Wi    133 non-null    int64  \n",
      " 9   CB_SF6Dew_Test    133 non-null    float64\n",
      " 10  CB_SF6Dew_Wi      133 non-null    int64  \n",
      " 11  CB_SF6_Test       133 non-null    int64  \n",
      " 12  CB_SF6_Wi         133 non-null    int64  \n",
      " 13  CB_SF6Pur_Test    133 non-null    int64  \n",
      " 14  CB_SF6Pur_Wi      133 non-null    int64  \n",
      " 15  CB_SO2_Test       133 non-null    int64  \n",
      " 16  CB_SO2_Wi         133 non-null    int64  \n",
      " 17  CB_Vis_Test       133 non-null    int64  \n",
      " 18  CB_Vis_Wi         133 non-null    int64  \n",
      " 19  CB_Gas_Test       133 non-null    int64  \n",
      " 20  CB_Gas_Wi         133 non-null    int64  \n",
      " 21  CT_CR_Test        133 non-null    int64  \n",
      " 22  CT_CR_Wi          133 non-null    int64  \n",
      " 23  CT_IR_Test        133 non-null    int64  \n",
      " 24  CT_IR_Wi          133 non-null    int64  \n",
      " 25  CT_IP_Test        133 non-null    int64  \n",
      " 26  CT_IP_Wi          133 non-null    int64  \n",
      " 27  CT_Turn_Test      133 non-null    int64  \n",
      " 28  CT_Turn_Wi        133 non-null    int64  \n",
      " 29  CT_Break_Test     133 non-null    int64  \n",
      " 30  CT_Break_Wi       133 non-null    int64  \n",
      " 31  CT_Water_Test     133 non-null    int64  \n",
      " 32  CT_Water_Wi       133 non-null    int64  \n",
      " 33  CT_Fas_Test       133 non-null    int64  \n",
      " 34  CT_Fas_Wi         133 non-null    int64  \n",
      " 35  CT_UC_Test        133 non-null    int64  \n",
      " 36  CT_UC_Wi          133 non-null    int64  \n",
      " 37  CT_Ter_Test       133 non-null    int64  \n",
      " 38  CT_Ter_Wi         133 non-null    int64  \n",
      " 39  CT_Oil_Test       133 non-null    int64  \n",
      " 40  CT_Oil_Wi         133 non-null    int64  \n",
      " 41  PT_CR_Test        133 non-null    int64  \n",
      " 42  PT_CR_Wi          133 non-null    float64\n",
      " 43  PT_IR_Test        133 non-null    int64  \n",
      " 44  PT_IR_Wi          133 non-null    float64\n",
      " 45  PT_IP_Test        133 non-null    int64  \n",
      " 46  PT_IP_Wi          133 non-null    float64\n",
      " 47  PT_Turn_Test      133 non-null    int64  \n",
      " 48  PT_Turn _Wi       133 non-null    float64\n",
      " 49  PT_Break_Test     133 non-null    int64  \n",
      " 50  PT_Break_Wi       133 non-null    float64\n",
      " 51  PT_Fas_Test       133 non-null    int64  \n",
      " 52  PT_Fas_Wi         133 non-null    float64\n",
      " 53  PT_UC_Test        133 non-null    int64  \n",
      " 54  PT_UC_Wi          133 non-null    float64\n",
      " 55  PT_Ter_Test       133 non-null    int64  \n",
      " 56  PT_Ter_Wi         133 non-null    float64\n",
      " 57  PT_Oil_Test       133 non-null    int64  \n",
      " 58  PT_Oil_Wi         133 non-null    float64\n",
      " 59  DS_CR_Test        133 non-null    int64  \n",
      " 60  DS_CR_Wi          133 non-null    float64\n",
      " 61  DS_IR_Test        133 non-null    int64  \n",
      " 62  DS_IR_Wi          133 non-null    float64\n",
      " 63  DS_IP_Test        133 non-null    int64  \n",
      " 64  DS_IP_Wi          133 non-null    float64\n",
      " 65  DS_Fas_Test       133 non-null    int64  \n",
      " 66  DS_Fas_Wi         133 non-null    float64\n",
      " 67  DS_UC_Test        133 non-null    int64  \n",
      " 68  DS_UC_Wi          133 non-null    float64\n",
      " 69  DS_Func_Test      133 non-null    int64  \n",
      " 70  DS_Func_Wi        133 non-null    float64\n",
      " 71  DS_TTh_Test       133 non-null    int64  \n",
      " 72  DS_TTh_Wi         133 non-null    float64\n",
      " 73  DS_Lub_Test       133 non-null    int64  \n",
      " 74  DS_Lub_Wi         133 non-null    float64\n",
      " 75  LA_CR_Test        133 non-null    int64  \n",
      " 76  LA_CR_Wi          133 non-null    float64\n",
      " 77  LA_IR_Test        133 non-null    int64  \n",
      " 78  LA_IR_Wi          133 non-null    float64\n",
      " 79  LA_IP_Test        133 non-null    int64  \n",
      " 80  LA_IP_Wi          133 non-null    float64\n",
      " 81  LA_Fas_Test       133 non-null    int64  \n",
      " 82  LA_Fas_Wi         133 non-null    float64\n",
      " 83  LA_UC_Test        133 non-null    int64  \n",
      " 84  LA_UC_Wi          133 non-null    float64\n",
      " 85  LA_Ter_Test       133 non-null    int64  \n",
      " 86  LA_Ter_Wi         133 non-null    float64\n",
      " 87  HI_Total          133 non-null    float64\n",
      " 88  Assessment        133 non-null    object \n",
      "dtypes: float64(27), int64(61), object(1)\n",
      "memory usage: 92.6+ KB\n"
     ]
    }
   ],
   "source": [
    "df.info()"
   ]
  },
  {
   "cell_type": "code",
   "execution_count": 5,
   "id": "865af697",
   "metadata": {},
   "outputs": [
    {
     "data": {
      "text/plain": [
       "Index(['Number', 'CB_IR_Test', 'CB_IR_Wi', 'CB_ConT_Test', 'CB_ConT_Wi',\n",
       "       'CB_CR_Test', 'CB_CR_Wi', 'CB_SF6Press_Test', 'CB_SF6Press_Wi',\n",
       "       'CB_SF6Dew_Test', 'CB_SF6Dew_Wi', 'CB_SF6_Test', 'CB_SF6_Wi',\n",
       "       'CB_SF6Pur_Test', 'CB_SF6Pur_Wi', 'CB_SO2_Test', 'CB_SO2_Wi',\n",
       "       'CB_Vis_Test', 'CB_Vis_Wi', 'CB_Gas_Test', 'CB_Gas_Wi', 'CT_CR_Test',\n",
       "       'CT_CR_Wi', 'CT_IR_Test', 'CT_IR_Wi', 'CT_IP_Test', 'CT_IP_Wi',\n",
       "       'CT_Turn_Test', 'CT_Turn_Wi', 'CT_Break_Test', 'CT_Break_Wi',\n",
       "       'CT_Water_Test', 'CT_Water_Wi', 'CT_Fas_Test', 'CT_Fas_Wi',\n",
       "       'CT_UC_Test', 'CT_UC_Wi', 'CT_Ter_Test', 'CT_Ter_Wi', 'CT_Oil_Test',\n",
       "       'CT_Oil_Wi', 'PT_CR_Test', 'PT_CR_Wi', 'PT_IR_Test', 'PT_IR_Wi',\n",
       "       'PT_IP_Test', 'PT_IP_Wi', 'PT_Turn_Test', 'PT_Turn _Wi',\n",
       "       'PT_Break_Test', 'PT_Break_Wi', 'PT_Fas_Test', 'PT_Fas_Wi',\n",
       "       'PT_UC_Test', 'PT_UC_Wi', 'PT_Ter_Test', 'PT_Ter_Wi', 'PT_Oil_Test',\n",
       "       'PT_Oil_Wi', 'DS_CR_Test', 'DS_CR_Wi', 'DS_IR_Test', 'DS_IR_Wi',\n",
       "       'DS_IP_Test', 'DS_IP_Wi', 'DS_Fas_Test', 'DS_Fas_Wi', 'DS_UC_Test',\n",
       "       'DS_UC_Wi', 'DS_Func_Test', 'DS_Func_Wi', 'DS_TTh_Test', 'DS_TTh_Wi',\n",
       "       'DS_Lub_Test', 'DS_Lub_Wi', 'LA_CR_Test', 'LA_CR_Wi', 'LA_IR_Test',\n",
       "       'LA_IR_Wi', 'LA_IP_Test', 'LA_IP_Wi', 'LA_Fas_Test', 'LA_Fas_Wi',\n",
       "       'LA_UC_Test', 'LA_UC_Wi', 'LA_Ter_Test', 'LA_Ter_Wi', 'HI_Total',\n",
       "       'Assessment'],\n",
       "      dtype='object')"
      ]
     },
     "execution_count": 5,
     "metadata": {},
     "output_type": "execute_result"
    }
   ],
   "source": [
    "df.columns"
   ]
  },
  {
   "cell_type": "code",
   "execution_count": 6,
   "id": "8aa87bbf",
   "metadata": {},
   "outputs": [],
   "source": [
    "from sklearn.model_selection import train_test_split\n",
    "from sklearn.tree import DecisionTreeClassifier\n",
    "from sklearn.metrics import (\n",
    "    confusion_matrix,\n",
    "    plot_confusion_matrix,\n",
    "    classification_report,\n",
    "    accuracy_score,\n",
    "    precision_score,\n",
    "    recall_score,\n",
    "    precision_recall_fscore_support,\n",
    "    f1_score,\n",
    ")"
   ]
  },
  {
   "cell_type": "code",
   "execution_count": 7,
   "id": "95c6b2f4",
   "metadata": {},
   "outputs": [
    {
     "data": {
      "text/plain": [
       "Index(['Number', 'CB_IR_Test', 'CB_IR_Wi', 'CB_ConT_Test', 'CB_ConT_Wi',\n",
       "       'CB_CR_Test', 'CB_CR_Wi', 'CB_SF6Press_Test', 'CB_SF6Press_Wi',\n",
       "       'CB_SF6Dew_Test', 'CB_SF6Dew_Wi', 'CB_SF6_Test', 'CB_SF6_Wi',\n",
       "       'CB_SF6Pur_Test', 'CB_SF6Pur_Wi', 'CB_SO2_Test', 'CB_SO2_Wi',\n",
       "       'CB_Vis_Test', 'CB_Vis_Wi', 'CB_Gas_Test', 'CB_Gas_Wi', 'CT_CR_Test',\n",
       "       'CT_CR_Wi', 'CT_IR_Test', 'CT_IR_Wi', 'CT_IP_Test', 'CT_IP_Wi',\n",
       "       'CT_Turn_Test', 'CT_Turn_Wi', 'CT_Break_Test', 'CT_Break_Wi',\n",
       "       'CT_Water_Test', 'CT_Water_Wi', 'CT_Fas_Test', 'CT_Fas_Wi',\n",
       "       'CT_UC_Test', 'CT_UC_Wi', 'CT_Ter_Test', 'CT_Ter_Wi', 'CT_Oil_Test',\n",
       "       'CT_Oil_Wi', 'PT_CR_Test', 'PT_CR_Wi', 'PT_IR_Test', 'PT_IR_Wi',\n",
       "       'PT_IP_Test', 'PT_IP_Wi', 'PT_Turn_Test', 'PT_Turn _Wi',\n",
       "       'PT_Break_Test', 'PT_Break_Wi', 'PT_Fas_Test', 'PT_Fas_Wi',\n",
       "       'PT_UC_Test', 'PT_UC_Wi', 'PT_Ter_Test', 'PT_Ter_Wi', 'PT_Oil_Test',\n",
       "       'PT_Oil_Wi', 'DS_CR_Test', 'DS_CR_Wi', 'DS_IR_Test', 'DS_IR_Wi',\n",
       "       'DS_IP_Test', 'DS_IP_Wi', 'DS_Fas_Test', 'DS_Fas_Wi', 'DS_UC_Test',\n",
       "       'DS_UC_Wi', 'DS_Func_Test', 'DS_Func_Wi', 'DS_TTh_Test', 'DS_TTh_Wi',\n",
       "       'DS_Lub_Test', 'DS_Lub_Wi', 'LA_CR_Test', 'LA_CR_Wi', 'LA_IR_Test',\n",
       "       'LA_IR_Wi', 'LA_IP_Test', 'LA_IP_Wi', 'LA_Fas_Test', 'LA_Fas_Wi',\n",
       "       'LA_UC_Test', 'LA_UC_Wi', 'LA_Ter_Test', 'LA_Ter_Wi', 'HI_Total',\n",
       "       'Assessment'],\n",
       "      dtype='object')"
      ]
     },
     "execution_count": 7,
     "metadata": {},
     "output_type": "execute_result"
    }
   ],
   "source": [
    "df.columns"
   ]
  },
  {
   "cell_type": "code",
   "execution_count": 8,
   "id": "0f8cdba0",
   "metadata": {},
   "outputs": [],
   "source": [
    "cols = [\n",
    "   \"CB_IR_Test\",\n",
    "    \"CB_ConT_Test\",\n",
    "    \"CB_CR_Test\",\n",
    "    \"CB_SF6Press_Test\",\n",
    "    \"CB_SF6Dew_Test\",\n",
    "    \"CB_SF6_Test\",\n",
    "    \"CB_SF6Pur_Test\",\n",
    "    \"CB_SO2_Test\",\n",
    "    \"CB_Vis_Test\",\n",
    "    \"CB_Gas_Test\",\n",
    "    \"CT_CR_Test\",\n",
    "    \"CT_IR_Test\",\n",
    "    \"CT_IP_Test\",\n",
    "    \"CT_Turn_Test\",\n",
    "    \"CT_Break_Test\",\n",
    "    \"CT_Water_Test\",\n",
    "    \"CT_Fas_Test\",\n",
    "    \"CT_UC_Test\",\n",
    "    \"CT_Ter_Test\",\n",
    "    \"CT_Oil_Test\",\n",
    "    \"PT_CR_Test\",\n",
    "    \"PT_IR_Test\",\n",
    "    \"PT_IP_Test\",\n",
    "    \"PT_Turn_Test\",\n",
    "    \"PT_Break_Test\",\n",
    "    \"PT_Fas_Test\",\n",
    "    \"PT_UC_Test\",\n",
    "    \"PT_Ter_Test\",\n",
    "    \"PT_Oil_Test\",\n",
    "    \"DS_CR_Test\",\n",
    "    \"DS_IR_Test\",\n",
    "    \"DS_IP_Test\",\n",
    "    \"DS_Fas_Test\",\n",
    "    \"DS_UC_Test\",\n",
    "    \"DS_Func_Test\",\n",
    "    \"DS_TTh_Test\",\n",
    "    \"DS_Lub_Test\",\n",
    "    \"LA_CR_Test\",\n",
    "    \"LA_IR_Test\",\n",
    "    \"LA_IP_Test\",\n",
    "    \"LA_Fas_Test\",\n",
    "    \"LA_UC_Test\",\n",
    "    \"LA_Ter_Test\",\n",
    "]"
   ]
  },
  {
   "cell_type": "code",
   "execution_count": 9,
   "id": "ba2bec14",
   "metadata": {},
   "outputs": [],
   "source": [
    "X = df[cols]  \n",
    "y = df[\"Assessment\"]  "
   ]
  },
  {
   "cell_type": "code",
   "execution_count": 10,
   "id": "692b1b5b",
   "metadata": {},
   "outputs": [],
   "source": [
    "test_size = 0.2\n",
    "X_train, X_test, y_train, y_test = train_test_split(\n",
    "    X, y, test_size=test_size, stratify=y, random_state=7\n",
    ")"
   ]
  },
  {
   "cell_type": "code",
   "execution_count": 11,
   "id": "16fae7b4",
   "metadata": {},
   "outputs": [],
   "source": [
    "#เนื่องจากค่าตัวแปรมีทั้งหลักหน่วย สิบ ร้อย พัน,ค่าที่สูง dominate ค่าน้อย จึงต้องทำ\n",
    "from sklearn.preprocessing import StandardScaler\n",
    "scaler = StandardScaler()\n",
    "# Fit only to the trainning data\n",
    "scaler.fit(X_train)\n",
    "\n",
    "#Now apply the transformations to the data:\n",
    "X_train = scaler.transform(X_train)\n",
    "X_test = scaler.transform(X_test)"
   ]
  },
  {
   "cell_type": "code",
   "execution_count": 12,
   "id": "6c154770",
   "metadata": {},
   "outputs": [
    {
     "data": {
      "text/plain": [
       "array([[-0.09759001, -0.57239041, -0.47923625, ..., -0.49705012,\n",
       "        -0.57008771, -0.40599897],\n",
       "       [-0.09759001, -0.57270803, -0.47923625, ..., -0.49705012,\n",
       "        -0.57008771, -0.40599897],\n",
       "       [-0.09759001,  1.84760634, -0.47923625, ...,  2.01186954,\n",
       "        -0.57008771, -0.40599897],\n",
       "       ...,\n",
       "       [-0.09759001,  1.73235544, -0.47923625, ...,  2.01186954,\n",
       "         1.75411604,  2.46306043],\n",
       "       [-0.09759001, -0.57266265, -0.47923625, ..., -0.49705012,\n",
       "        -0.57008771, -0.40599897],\n",
       "       [-0.09759001,  1.61710453, -0.47923625, ..., -0.49705012,\n",
       "        -0.57008771, -0.40599897]])"
      ]
     },
     "execution_count": 12,
     "metadata": {},
     "output_type": "execute_result"
    }
   ],
   "source": [
    "\n",
    "X_train"
   ]
  },
  {
   "cell_type": "code",
   "execution_count": 13,
   "id": "0052d7bb",
   "metadata": {},
   "outputs": [],
   "source": [
    "X_train = pd.DataFrame(X_train, columns = X.columns)\n",
    "\n",
    "X_test = pd.DataFrame(X_test, columns=X.columns)"
   ]
  },
  {
   "cell_type": "code",
   "execution_count": 14,
   "id": "d79ed68d",
   "metadata": {},
   "outputs": [
    {
     "data": {
      "text/plain": [
       "DecisionTreeClassifier()"
      ]
     },
     "execution_count": 14,
     "metadata": {},
     "output_type": "execute_result"
    }
   ],
   "source": [
    "model = DecisionTreeClassifier(criterion=\"gini\")  # gini is a default\n",
    "# model=DecisionTreeClassifier(criterion='entropy')\n",
    "\n",
    "model.fit(X_train, y_train)"
   ]
  },
  {
   "cell_type": "code",
   "execution_count": 15,
   "id": "451437e8",
   "metadata": {},
   "outputs": [
    {
     "data": {
      "text/plain": [
       "DecisionTreeClassifier()"
      ]
     },
     "execution_count": 15,
     "metadata": {},
     "output_type": "execute_result"
    }
   ],
   "source": [
    "model = DecisionTreeClassifier(criterion=\"gini\")  # gini is a default\n",
    "# model=DecisionTreeClassifier(criterion='entropy')\n",
    "\n",
    "model.fit(X_train, y_train)"
   ]
  },
  {
   "cell_type": "code",
   "execution_count": 16,
   "id": "92117c68",
   "metadata": {},
   "outputs": [
    {
     "data": {
      "text/plain": [
       "Index(['CB_IR_Test', 'CB_ConT_Test', 'CB_CR_Test', 'CB_SF6Press_Test',\n",
       "       'CB_SF6Dew_Test', 'CB_SF6_Test', 'CB_SF6Pur_Test', 'CB_SO2_Test',\n",
       "       'CB_Vis_Test', 'CB_Gas_Test', 'CT_CR_Test', 'CT_IR_Test', 'CT_IP_Test',\n",
       "       'CT_Turn_Test', 'CT_Break_Test', 'CT_Water_Test', 'CT_Fas_Test',\n",
       "       'CT_UC_Test', 'CT_Ter_Test', 'CT_Oil_Test', 'PT_CR_Test', 'PT_IR_Test',\n",
       "       'PT_IP_Test', 'PT_Turn_Test', 'PT_Break_Test', 'PT_Fas_Test',\n",
       "       'PT_UC_Test', 'PT_Ter_Test', 'PT_Oil_Test', 'DS_CR_Test', 'DS_IR_Test',\n",
       "       'DS_IP_Test', 'DS_Fas_Test', 'DS_UC_Test', 'DS_Func_Test',\n",
       "       'DS_TTh_Test', 'DS_Lub_Test', 'LA_CR_Test', 'LA_IR_Test', 'LA_IP_Test',\n",
       "       'LA_Fas_Test', 'LA_UC_Test', 'LA_Ter_Test'],\n",
       "      dtype='object')"
      ]
     },
     "execution_count": 16,
     "metadata": {},
     "output_type": "execute_result"
    }
   ],
   "source": [
    "X_train.columns"
   ]
  },
  {
   "cell_type": "code",
   "execution_count": 17,
   "id": "b8a1ad75",
   "metadata": {},
   "outputs": [
    {
     "data": {
      "text/plain": [
       "array([0.        , 0.        , 0.04867719, 0.        , 0.        ,\n",
       "       0.        , 0.        , 0.        , 0.        , 0.        ,\n",
       "       0.        , 0.        , 0.        , 0.        , 0.        ,\n",
       "       0.        , 0.        , 0.        , 0.        , 0.        ,\n",
       "       0.        , 0.        , 0.        , 0.        , 0.        ,\n",
       "       0.        , 0.74817959, 0.        , 0.        , 0.15238078,\n",
       "       0.        , 0.        , 0.        , 0.        , 0.        ,\n",
       "       0.        , 0.        , 0.        , 0.        , 0.        ,\n",
       "       0.        , 0.        , 0.05076243])"
      ]
     },
     "execution_count": 17,
     "metadata": {},
     "output_type": "execute_result"
    }
   ],
   "source": [
    "model.feature_importances_"
   ]
  },
  {
   "cell_type": "code",
   "execution_count": 18,
   "id": "43870835",
   "metadata": {},
   "outputs": [
    {
     "data": {
      "text/plain": [
       "PT_UC_Test          0.748180\n",
       "DS_CR_Test          0.152381\n",
       "LA_Ter_Test         0.050762\n",
       "CB_CR_Test          0.048677\n",
       "DS_Fas_Test         0.000000\n",
       "PT_Break_Test       0.000000\n",
       "PT_Fas_Test         0.000000\n",
       "PT_Ter_Test         0.000000\n",
       "PT_Oil_Test         0.000000\n",
       "DS_IR_Test          0.000000\n",
       "DS_IP_Test          0.000000\n",
       "DS_UC_Test          0.000000\n",
       "PT_IP_Test          0.000000\n",
       "DS_Func_Test        0.000000\n",
       "DS_TTh_Test         0.000000\n",
       "DS_Lub_Test         0.000000\n",
       "LA_CR_Test          0.000000\n",
       "LA_IR_Test          0.000000\n",
       "LA_IP_Test          0.000000\n",
       "LA_Fas_Test         0.000000\n",
       "LA_UC_Test          0.000000\n",
       "PT_Turn_Test        0.000000\n",
       "CB_IR_Test          0.000000\n",
       "CB_ConT_Test        0.000000\n",
       "PT_CR_Test          0.000000\n",
       "CB_SF6Press_Test    0.000000\n",
       "CB_SF6Dew_Test      0.000000\n",
       "CB_SF6_Test         0.000000\n",
       "CB_SF6Pur_Test      0.000000\n",
       "CB_SO2_Test         0.000000\n",
       "CB_Vis_Test         0.000000\n",
       "CB_Gas_Test         0.000000\n",
       "CT_CR_Test          0.000000\n",
       "CT_IR_Test          0.000000\n",
       "CT_IP_Test          0.000000\n",
       "CT_Turn_Test        0.000000\n",
       "CT_Break_Test       0.000000\n",
       "CT_Water_Test       0.000000\n",
       "CT_Fas_Test         0.000000\n",
       "CT_UC_Test          0.000000\n",
       "CT_Ter_Test         0.000000\n",
       "CT_Oil_Test         0.000000\n",
       "PT_IR_Test          0.000000\n",
       "dtype: float64"
      ]
     },
     "execution_count": 18,
     "metadata": {},
     "output_type": "execute_result"
    }
   ],
   "source": [
    "fs = pd.Series(model.feature_importances_, index=X_train.columns).sort_values(\n",
    "    ascending=False\n",
    ")\n",
    "fs"
   ]
  },
  {
   "cell_type": "code",
   "execution_count": 19,
   "id": "eb58f136",
   "metadata": {},
   "outputs": [
    {
     "data": {
      "text/plain": [
       "High      82\n",
       "Medium    19\n",
       "low        5\n",
       "Name: Assessment, dtype: int64"
      ]
     },
     "execution_count": 19,
     "metadata": {},
     "output_type": "execute_result"
    }
   ],
   "source": [
    "y_train.value_counts()"
   ]
  },
  {
   "cell_type": "code",
   "execution_count": 20,
   "id": "bcc6550d",
   "metadata": {},
   "outputs": [
    {
     "data": {
      "text/plain": [
       "DecisionTreeClassifier()"
      ]
     },
     "execution_count": 20,
     "metadata": {},
     "output_type": "execute_result"
    }
   ],
   "source": [
    "clf = DecisionTreeClassifier(criterion=\"gini\")\n",
    "clf.fit(X_train, y_train)"
   ]
  },
  {
   "cell_type": "code",
   "execution_count": 21,
   "id": "294cce27",
   "metadata": {},
   "outputs": [
    {
     "data": {
      "text/plain": [
       "{'criterion': 'gini',\n",
       " 'splitter': 'best',\n",
       " 'max_depth': None,\n",
       " 'min_samples_split': 2,\n",
       " 'min_samples_leaf': 1,\n",
       " 'min_weight_fraction_leaf': 0.0,\n",
       " 'max_features': None,\n",
       " 'max_leaf_nodes': None,\n",
       " 'random_state': None,\n",
       " 'min_impurity_decrease': 0.0,\n",
       " 'class_weight': None,\n",
       " 'ccp_alpha': 0.0,\n",
       " 'feature_names_in_': array(['CB_IR_Test', 'CB_ConT_Test', 'CB_CR_Test', 'CB_SF6Press_Test',\n",
       "        'CB_SF6Dew_Test', 'CB_SF6_Test', 'CB_SF6Pur_Test', 'CB_SO2_Test',\n",
       "        'CB_Vis_Test', 'CB_Gas_Test', 'CT_CR_Test', 'CT_IR_Test',\n",
       "        'CT_IP_Test', 'CT_Turn_Test', 'CT_Break_Test', 'CT_Water_Test',\n",
       "        'CT_Fas_Test', 'CT_UC_Test', 'CT_Ter_Test', 'CT_Oil_Test',\n",
       "        'PT_CR_Test', 'PT_IR_Test', 'PT_IP_Test', 'PT_Turn_Test',\n",
       "        'PT_Break_Test', 'PT_Fas_Test', 'PT_UC_Test', 'PT_Ter_Test',\n",
       "        'PT_Oil_Test', 'DS_CR_Test', 'DS_IR_Test', 'DS_IP_Test',\n",
       "        'DS_Fas_Test', 'DS_UC_Test', 'DS_Func_Test', 'DS_TTh_Test',\n",
       "        'DS_Lub_Test', 'LA_CR_Test', 'LA_IR_Test', 'LA_IP_Test',\n",
       "        'LA_Fas_Test', 'LA_UC_Test', 'LA_Ter_Test'], dtype=object),\n",
       " 'n_features_in_': 43,\n",
       " 'n_outputs_': 1,\n",
       " 'classes_': array(['High', 'Medium', 'low'], dtype=object),\n",
       " 'n_classes_': 3,\n",
       " 'max_features_': 43,\n",
       " 'tree_': <sklearn.tree._tree.Tree at 0x224bee97c70>}"
      ]
     },
     "execution_count": 21,
     "metadata": {},
     "output_type": "execute_result"
    }
   ],
   "source": [
    "clf.__dict__"
   ]
  },
  {
   "cell_type": "code",
   "execution_count": 22,
   "id": "e2de4d42",
   "metadata": {},
   "outputs": [
    {
     "data": {
      "text/plain": [
       "<sklearn.tree._tree.Tree at 0x224bee97c70>"
      ]
     },
     "execution_count": 22,
     "metadata": {},
     "output_type": "execute_result"
    }
   ],
   "source": [
    "clf.__dict__[\"tree_\"]"
   ]
  },
  {
   "cell_type": "code",
   "execution_count": 23,
   "id": "b2896d90",
   "metadata": {},
   "outputs": [
    {
     "data": {
      "text/plain": [
       "sklearn.tree._classes.DecisionTreeClassifier"
      ]
     },
     "execution_count": 23,
     "metadata": {},
     "output_type": "execute_result"
    }
   ],
   "source": [
    "type(clf)"
   ]
  },
  {
   "cell_type": "code",
   "execution_count": 24,
   "id": "9135bd98",
   "metadata": {},
   "outputs": [
    {
     "data": {
      "text/plain": [
       "array(['High', 'Medium', 'low'], dtype=object)"
      ]
     },
     "execution_count": 24,
     "metadata": {},
     "output_type": "execute_result"
    }
   ],
   "source": [
    "clf.__dict__[\"classes_\"]"
   ]
  },
  {
   "cell_type": "code",
   "execution_count": 25,
   "id": "6092c600",
   "metadata": {},
   "outputs": [],
   "source": [
    "from sklearn.tree import export_graphviz\n",
    "from graphviz import Digraph, Source\n",
    "\n",
    "\n",
    "def view_tree(model, X, save_tree_img=False):\n",
    "    estimators = clf\n",
    "    dot_graph = export_graphviz(\n",
    "        estimators,\n",
    "        feature_names=X.columns,\n",
    "        class_names=model.__dict__[\"classes_\"],\n",
    "        rounded=True,\n",
    "        proportion=False,\n",
    "        precision=2,\n",
    "        filled=True,\n",
    "    )\n",
    "    #     with open(f'tree{tree_index}.dot') as f:\n",
    "    #         dot_graph = f.read()\n",
    "    g = Source(dot_graph)\n",
    "    if save_tree_img:\n",
    "        g.render(f\"tree\", format=\"png\", view=False, cleanup=True)\n",
    "    return g"
   ]
  },
  {
   "cell_type": "code",
   "execution_count": 26,
   "id": "a6c0f933",
   "metadata": {},
   "outputs": [
    {
     "data": {
      "image/svg+xml": [
       "<?xml version=\"1.0\" encoding=\"UTF-8\" standalone=\"no\"?>\n",
       "<!DOCTYPE svg PUBLIC \"-//W3C//DTD SVG 1.1//EN\"\n",
       " \"http://www.w3.org/Graphics/SVG/1.1/DTD/svg11.dtd\">\n",
       "<!-- Generated by graphviz version 2.50.0 (0)\n",
       " -->\n",
       "<!-- Title: Tree Pages: 1 -->\n",
       "<svg width=\"555pt\" height=\"433pt\"\n",
       " viewBox=\"0.00 0.00 554.50 433.00\" xmlns=\"http://www.w3.org/2000/svg\" xmlns:xlink=\"http://www.w3.org/1999/xlink\">\n",
       "<g id=\"graph0\" class=\"graph\" transform=\"scale(1 1) rotate(0) translate(4 429)\">\n",
       "<title>Tree</title>\n",
       "<polygon fill=\"white\" stroke=\"transparent\" points=\"-4,4 -4,-429 550.5,-429 550.5,4 -4,4\"/>\n",
       "<!-- 0 -->\n",
       "<g id=\"node1\" class=\"node\">\n",
       "<title>0</title>\n",
       "<path fill=\"#eca470\" stroke=\"black\" d=\"M328,-425C328,-425 209,-425 209,-425 203,-425 197,-419 197,-413 197,-413 197,-354 197,-354 197,-348 203,-342 209,-342 209,-342 328,-342 328,-342 334,-342 340,-348 340,-354 340,-354 340,-413 340,-413 340,-419 334,-425 328,-425\"/>\n",
       "<text text-anchor=\"middle\" x=\"268.5\" y=\"-409.8\" font-family=\"Helvetica,sans-Serif\" font-size=\"14.00\">PT_UC_Test &lt;= 0.69</text>\n",
       "<text text-anchor=\"middle\" x=\"268.5\" y=\"-394.8\" font-family=\"Helvetica,sans-Serif\" font-size=\"14.00\">gini = 0.37</text>\n",
       "<text text-anchor=\"middle\" x=\"268.5\" y=\"-379.8\" font-family=\"Helvetica,sans-Serif\" font-size=\"14.00\">samples = 106</text>\n",
       "<text text-anchor=\"middle\" x=\"268.5\" y=\"-364.8\" font-family=\"Helvetica,sans-Serif\" font-size=\"14.00\">value = [82, 19, 5]</text>\n",
       "<text text-anchor=\"middle\" x=\"268.5\" y=\"-349.8\" font-family=\"Helvetica,sans-Serif\" font-size=\"14.00\">class = High</text>\n",
       "</g>\n",
       "<!-- 1 -->\n",
       "<g id=\"node2\" class=\"node\">\n",
       "<title>1</title>\n",
       "<path fill=\"#e5833b\" stroke=\"black\" d=\"M246.5,-306C246.5,-306 128.5,-306 128.5,-306 122.5,-306 116.5,-300 116.5,-294 116.5,-294 116.5,-235 116.5,-235 116.5,-229 122.5,-223 128.5,-223 128.5,-223 246.5,-223 246.5,-223 252.5,-223 258.5,-229 258.5,-235 258.5,-235 258.5,-294 258.5,-294 258.5,-300 252.5,-306 246.5,-306\"/>\n",
       "<text text-anchor=\"middle\" x=\"187.5\" y=\"-290.8\" font-family=\"Helvetica,sans-Serif\" font-size=\"14.00\">LA_Ter_Test &lt;= 1.03</text>\n",
       "<text text-anchor=\"middle\" x=\"187.5\" y=\"-275.8\" font-family=\"Helvetica,sans-Serif\" font-size=\"14.00\">gini = 0.02</text>\n",
       "<text text-anchor=\"middle\" x=\"187.5\" y=\"-260.8\" font-family=\"Helvetica,sans-Serif\" font-size=\"14.00\">samples = 83</text>\n",
       "<text text-anchor=\"middle\" x=\"187.5\" y=\"-245.8\" font-family=\"Helvetica,sans-Serif\" font-size=\"14.00\">value = [82, 1, 0]</text>\n",
       "<text text-anchor=\"middle\" x=\"187.5\" y=\"-230.8\" font-family=\"Helvetica,sans-Serif\" font-size=\"14.00\">class = High</text>\n",
       "</g>\n",
       "<!-- 0&#45;&gt;1 -->\n",
       "<g id=\"edge1\" class=\"edge\">\n",
       "<title>0&#45;&gt;1</title>\n",
       "<path fill=\"none\" stroke=\"black\" d=\"M240.4,-341.91C234.24,-333.01 227.66,-323.51 221.31,-314.33\"/>\n",
       "<polygon fill=\"black\" stroke=\"black\" points=\"224.12,-312.25 215.55,-306.02 218.37,-316.24 224.12,-312.25\"/>\n",
       "<text text-anchor=\"middle\" x=\"211.08\" y=\"-326.92\" font-family=\"Helvetica,sans-Serif\" font-size=\"14.00\">True</text>\n",
       "</g>\n",
       "<!-- 4 -->\n",
       "<g id=\"node5\" class=\"node\">\n",
       "<title>4</title>\n",
       "<path fill=\"#70eca4\" stroke=\"black\" d=\"M410,-306C410,-306 289,-306 289,-306 283,-306 277,-300 277,-294 277,-294 277,-235 277,-235 277,-229 283,-223 289,-223 289,-223 410,-223 410,-223 416,-223 422,-229 422,-235 422,-235 422,-294 422,-294 422,-300 416,-306 410,-306\"/>\n",
       "<text text-anchor=\"middle\" x=\"349.5\" y=\"-290.8\" font-family=\"Helvetica,sans-Serif\" font-size=\"14.00\">DS_CR_Test &lt;= 1.01</text>\n",
       "<text text-anchor=\"middle\" x=\"349.5\" y=\"-275.8\" font-family=\"Helvetica,sans-Serif\" font-size=\"14.00\">gini = 0.34</text>\n",
       "<text text-anchor=\"middle\" x=\"349.5\" y=\"-260.8\" font-family=\"Helvetica,sans-Serif\" font-size=\"14.00\">samples = 23</text>\n",
       "<text text-anchor=\"middle\" x=\"349.5\" y=\"-245.8\" font-family=\"Helvetica,sans-Serif\" font-size=\"14.00\">value = [0, 18, 5]</text>\n",
       "<text text-anchor=\"middle\" x=\"349.5\" y=\"-230.8\" font-family=\"Helvetica,sans-Serif\" font-size=\"14.00\">class = Medium</text>\n",
       "</g>\n",
       "<!-- 0&#45;&gt;4 -->\n",
       "<g id=\"edge4\" class=\"edge\">\n",
       "<title>0&#45;&gt;4</title>\n",
       "<path fill=\"none\" stroke=\"black\" d=\"M296.6,-341.91C302.76,-333.01 309.34,-323.51 315.69,-314.33\"/>\n",
       "<polygon fill=\"black\" stroke=\"black\" points=\"318.63,-316.24 321.45,-306.02 312.88,-312.25 318.63,-316.24\"/>\n",
       "<text text-anchor=\"middle\" x=\"325.92\" y=\"-326.92\" font-family=\"Helvetica,sans-Serif\" font-size=\"14.00\">False</text>\n",
       "</g>\n",
       "<!-- 2 -->\n",
       "<g id=\"node3\" class=\"node\">\n",
       "<title>2</title>\n",
       "<path fill=\"#e58139\" stroke=\"black\" d=\"M105,-179.5C105,-179.5 12,-179.5 12,-179.5 6,-179.5 0,-173.5 0,-167.5 0,-167.5 0,-123.5 0,-123.5 0,-117.5 6,-111.5 12,-111.5 12,-111.5 105,-111.5 105,-111.5 111,-111.5 117,-117.5 117,-123.5 117,-123.5 117,-167.5 117,-167.5 117,-173.5 111,-179.5 105,-179.5\"/>\n",
       "<text text-anchor=\"middle\" x=\"58.5\" y=\"-164.3\" font-family=\"Helvetica,sans-Serif\" font-size=\"14.00\">gini = 0.0</text>\n",
       "<text text-anchor=\"middle\" x=\"58.5\" y=\"-149.3\" font-family=\"Helvetica,sans-Serif\" font-size=\"14.00\">samples = 82</text>\n",
       "<text text-anchor=\"middle\" x=\"58.5\" y=\"-134.3\" font-family=\"Helvetica,sans-Serif\" font-size=\"14.00\">value = [82, 0, 0]</text>\n",
       "<text text-anchor=\"middle\" x=\"58.5\" y=\"-119.3\" font-family=\"Helvetica,sans-Serif\" font-size=\"14.00\">class = High</text>\n",
       "</g>\n",
       "<!-- 1&#45;&gt;2 -->\n",
       "<g id=\"edge2\" class=\"edge\">\n",
       "<title>1&#45;&gt;2</title>\n",
       "<path fill=\"none\" stroke=\"black\" d=\"M142.74,-222.91C129.73,-211.1 115.52,-198.22 102.55,-186.45\"/>\n",
       "<polygon fill=\"black\" stroke=\"black\" points=\"104.83,-183.79 95.07,-179.67 100.12,-188.98 104.83,-183.79\"/>\n",
       "</g>\n",
       "<!-- 3 -->\n",
       "<g id=\"node4\" class=\"node\">\n",
       "<title>3</title>\n",
       "<path fill=\"#39e581\" stroke=\"black\" d=\"M236,-179.5C236,-179.5 147,-179.5 147,-179.5 141,-179.5 135,-173.5 135,-167.5 135,-167.5 135,-123.5 135,-123.5 135,-117.5 141,-111.5 147,-111.5 147,-111.5 236,-111.5 236,-111.5 242,-111.5 248,-117.5 248,-123.5 248,-123.5 248,-167.5 248,-167.5 248,-173.5 242,-179.5 236,-179.5\"/>\n",
       "<text text-anchor=\"middle\" x=\"191.5\" y=\"-164.3\" font-family=\"Helvetica,sans-Serif\" font-size=\"14.00\">gini = 0.0</text>\n",
       "<text text-anchor=\"middle\" x=\"191.5\" y=\"-149.3\" font-family=\"Helvetica,sans-Serif\" font-size=\"14.00\">samples = 1</text>\n",
       "<text text-anchor=\"middle\" x=\"191.5\" y=\"-134.3\" font-family=\"Helvetica,sans-Serif\" font-size=\"14.00\">value = [0, 1, 0]</text>\n",
       "<text text-anchor=\"middle\" x=\"191.5\" y=\"-119.3\" font-family=\"Helvetica,sans-Serif\" font-size=\"14.00\">class = Medium</text>\n",
       "</g>\n",
       "<!-- 1&#45;&gt;3 -->\n",
       "<g id=\"edge3\" class=\"edge\">\n",
       "<title>1&#45;&gt;3</title>\n",
       "<path fill=\"none\" stroke=\"black\" d=\"M188.89,-222.91C189.25,-212.2 189.65,-200.62 190.02,-189.78\"/>\n",
       "<polygon fill=\"black\" stroke=\"black\" points=\"193.52,-189.78 190.37,-179.67 186.53,-189.54 193.52,-189.78\"/>\n",
       "</g>\n",
       "<!-- 5 -->\n",
       "<g id=\"node6\" class=\"node\">\n",
       "<title>5</title>\n",
       "<path fill=\"#44e688\" stroke=\"black\" d=\"M406,-187C406,-187 285,-187 285,-187 279,-187 273,-181 273,-175 273,-175 273,-116 273,-116 273,-110 279,-104 285,-104 285,-104 406,-104 406,-104 412,-104 418,-110 418,-116 418,-116 418,-175 418,-175 418,-181 412,-187 406,-187\"/>\n",
       "<text text-anchor=\"middle\" x=\"345.5\" y=\"-171.8\" font-family=\"Helvetica,sans-Serif\" font-size=\"14.00\">CB_CR_Test &lt;= 2.44</text>\n",
       "<text text-anchor=\"middle\" x=\"345.5\" y=\"-156.8\" font-family=\"Helvetica,sans-Serif\" font-size=\"14.00\">gini = 0.1</text>\n",
       "<text text-anchor=\"middle\" x=\"345.5\" y=\"-141.8\" font-family=\"Helvetica,sans-Serif\" font-size=\"14.00\">samples = 19</text>\n",
       "<text text-anchor=\"middle\" x=\"345.5\" y=\"-126.8\" font-family=\"Helvetica,sans-Serif\" font-size=\"14.00\">value = [0, 18, 1]</text>\n",
       "<text text-anchor=\"middle\" x=\"345.5\" y=\"-111.8\" font-family=\"Helvetica,sans-Serif\" font-size=\"14.00\">class = Medium</text>\n",
       "</g>\n",
       "<!-- 4&#45;&gt;5 -->\n",
       "<g id=\"edge5\" class=\"edge\">\n",
       "<title>4&#45;&gt;5</title>\n",
       "<path fill=\"none\" stroke=\"black\" d=\"M348.11,-222.91C347.83,-214.56 347.52,-205.67 347.23,-197.02\"/>\n",
       "<polygon fill=\"black\" stroke=\"black\" points=\"350.73,-196.9 346.89,-187.02 343.73,-197.13 350.73,-196.9\"/>\n",
       "</g>\n",
       "<!-- 8 -->\n",
       "<g id=\"node9\" class=\"node\">\n",
       "<title>8</title>\n",
       "<path fill=\"#8139e5\" stroke=\"black\" d=\"M534.5,-179.5C534.5,-179.5 448.5,-179.5 448.5,-179.5 442.5,-179.5 436.5,-173.5 436.5,-167.5 436.5,-167.5 436.5,-123.5 436.5,-123.5 436.5,-117.5 442.5,-111.5 448.5,-111.5 448.5,-111.5 534.5,-111.5 534.5,-111.5 540.5,-111.5 546.5,-117.5 546.5,-123.5 546.5,-123.5 546.5,-167.5 546.5,-167.5 546.5,-173.5 540.5,-179.5 534.5,-179.5\"/>\n",
       "<text text-anchor=\"middle\" x=\"491.5\" y=\"-164.3\" font-family=\"Helvetica,sans-Serif\" font-size=\"14.00\">gini = 0.0</text>\n",
       "<text text-anchor=\"middle\" x=\"491.5\" y=\"-149.3\" font-family=\"Helvetica,sans-Serif\" font-size=\"14.00\">samples = 4</text>\n",
       "<text text-anchor=\"middle\" x=\"491.5\" y=\"-134.3\" font-family=\"Helvetica,sans-Serif\" font-size=\"14.00\">value = [0, 0, 4]</text>\n",
       "<text text-anchor=\"middle\" x=\"491.5\" y=\"-119.3\" font-family=\"Helvetica,sans-Serif\" font-size=\"14.00\">class = low</text>\n",
       "</g>\n",
       "<!-- 4&#45;&gt;8 -->\n",
       "<g id=\"edge8\" class=\"edge\">\n",
       "<title>4&#45;&gt;8</title>\n",
       "<path fill=\"none\" stroke=\"black\" d=\"M398.77,-222.91C413.23,-210.99 429.03,-197.98 443.41,-186.12\"/>\n",
       "<polygon fill=\"black\" stroke=\"black\" points=\"445.75,-188.73 451.25,-179.67 441.3,-183.32 445.75,-188.73\"/>\n",
       "</g>\n",
       "<!-- 6 -->\n",
       "<g id=\"node7\" class=\"node\">\n",
       "<title>6</title>\n",
       "<path fill=\"#39e581\" stroke=\"black\" d=\"M326,-68C326,-68 233,-68 233,-68 227,-68 221,-62 221,-56 221,-56 221,-12 221,-12 221,-6 227,0 233,0 233,0 326,0 326,0 332,0 338,-6 338,-12 338,-12 338,-56 338,-56 338,-62 332,-68 326,-68\"/>\n",
       "<text text-anchor=\"middle\" x=\"279.5\" y=\"-52.8\" font-family=\"Helvetica,sans-Serif\" font-size=\"14.00\">gini = 0.0</text>\n",
       "<text text-anchor=\"middle\" x=\"279.5\" y=\"-37.8\" font-family=\"Helvetica,sans-Serif\" font-size=\"14.00\">samples = 18</text>\n",
       "<text text-anchor=\"middle\" x=\"279.5\" y=\"-22.8\" font-family=\"Helvetica,sans-Serif\" font-size=\"14.00\">value = [0, 18, 0]</text>\n",
       "<text text-anchor=\"middle\" x=\"279.5\" y=\"-7.8\" font-family=\"Helvetica,sans-Serif\" font-size=\"14.00\">class = Medium</text>\n",
       "</g>\n",
       "<!-- 5&#45;&gt;6 -->\n",
       "<g id=\"edge6\" class=\"edge\">\n",
       "<title>5&#45;&gt;6</title>\n",
       "<path fill=\"none\" stroke=\"black\" d=\"M320.92,-103.73C315.65,-94.97 310.06,-85.7 304.76,-76.91\"/>\n",
       "<polygon fill=\"black\" stroke=\"black\" points=\"307.73,-75.06 299.57,-68.3 301.74,-78.67 307.73,-75.06\"/>\n",
       "</g>\n",
       "<!-- 7 -->\n",
       "<g id=\"node8\" class=\"node\">\n",
       "<title>7</title>\n",
       "<path fill=\"#8139e5\" stroke=\"black\" d=\"M454.5,-68C454.5,-68 368.5,-68 368.5,-68 362.5,-68 356.5,-62 356.5,-56 356.5,-56 356.5,-12 356.5,-12 356.5,-6 362.5,0 368.5,0 368.5,0 454.5,0 454.5,0 460.5,0 466.5,-6 466.5,-12 466.5,-12 466.5,-56 466.5,-56 466.5,-62 460.5,-68 454.5,-68\"/>\n",
       "<text text-anchor=\"middle\" x=\"411.5\" y=\"-52.8\" font-family=\"Helvetica,sans-Serif\" font-size=\"14.00\">gini = 0.0</text>\n",
       "<text text-anchor=\"middle\" x=\"411.5\" y=\"-37.8\" font-family=\"Helvetica,sans-Serif\" font-size=\"14.00\">samples = 1</text>\n",
       "<text text-anchor=\"middle\" x=\"411.5\" y=\"-22.8\" font-family=\"Helvetica,sans-Serif\" font-size=\"14.00\">value = [0, 0, 1]</text>\n",
       "<text text-anchor=\"middle\" x=\"411.5\" y=\"-7.8\" font-family=\"Helvetica,sans-Serif\" font-size=\"14.00\">class = low</text>\n",
       "</g>\n",
       "<!-- 5&#45;&gt;7 -->\n",
       "<g id=\"edge7\" class=\"edge\">\n",
       "<title>5&#45;&gt;7</title>\n",
       "<path fill=\"none\" stroke=\"black\" d=\"M370.08,-103.73C375.35,-94.97 380.94,-85.7 386.24,-76.91\"/>\n",
       "<polygon fill=\"black\" stroke=\"black\" points=\"389.26,-78.67 391.43,-68.3 383.27,-75.06 389.26,-78.67\"/>\n",
       "</g>\n",
       "</g>\n",
       "</svg>\n"
      ],
      "text/plain": [
       "<graphviz.sources.Source at 0x224bee94cd0>"
      ]
     },
     "execution_count": 26,
     "metadata": {},
     "output_type": "execute_result"
    }
   ],
   "source": [
    "view_tree(clf, X_test, save_tree_img=False)"
   ]
  },
  {
   "cell_type": "code",
   "execution_count": 28,
   "id": "785bcfc6",
   "metadata": {},
   "outputs": [
    {
     "data": {
      "text/plain": [
       "array([[21,  0,  0],\n",
       "       [ 2,  3,  0],\n",
       "       [ 0,  0,  1]], dtype=int64)"
      ]
     },
     "execution_count": 28,
     "metadata": {},
     "output_type": "execute_result"
    }
   ],
   "source": [
    "cm = confusion_matrix(y_test, model.predict(X_test))\n",
    "cm"
   ]
  },
  {
   "cell_type": "code",
   "execution_count": 75,
   "id": "f36fb479",
   "metadata": {},
   "outputs": [
    {
     "name": "stdout",
     "output_type": "stream",
     "text": [
      "              precision    recall  f1-score   support\n",
      "\n",
      "        High       0.95      1.00      0.98       103\n",
      "      Medium       0.00      0.00      0.00        24\n",
      "         low       0.24      1.00      0.39         6\n",
      "\n",
      "    accuracy                           0.82       133\n",
      "   macro avg       0.40      0.67      0.45       133\n",
      "weighted avg       0.75      0.82      0.77       133\n",
      "\n"
     ]
    },
    {
     "name": "stderr",
     "output_type": "stream",
     "text": [
      "C:\\Users\\Desktop\\anaconda3\\lib\\site-packages\\sklearn\\metrics\\_classification.py:1318: UndefinedMetricWarning: Precision and F-score are ill-defined and being set to 0.0 in labels with no predicted samples. Use `zero_division` parameter to control this behavior.\n",
      "  _warn_prf(average, modifier, msg_start, len(result))\n",
      "C:\\Users\\Desktop\\anaconda3\\lib\\site-packages\\sklearn\\metrics\\_classification.py:1318: UndefinedMetricWarning: Precision and F-score are ill-defined and being set to 0.0 in labels with no predicted samples. Use `zero_division` parameter to control this behavior.\n",
      "  _warn_prf(average, modifier, msg_start, len(result))\n",
      "C:\\Users\\Desktop\\anaconda3\\lib\\site-packages\\sklearn\\metrics\\_classification.py:1318: UndefinedMetricWarning: Precision and F-score are ill-defined and being set to 0.0 in labels with no predicted samples. Use `zero_division` parameter to control this behavior.\n",
      "  _warn_prf(average, modifier, msg_start, len(result))\n"
     ]
    }
   ],
   "source": [
    "print(classification_report(y, model.predict(X)))"
   ]
  },
  {
   "cell_type": "code",
   "execution_count": 76,
   "id": "223edf65",
   "metadata": {},
   "outputs": [
    {
     "data": {
      "text/plain": [
       "array([0.36721253, 0.02380607, 0.        , 0.        , 0.34026465,\n",
       "       0.09972299, 0.        , 0.        , 0.        ])"
      ]
     },
     "execution_count": 76,
     "metadata": {},
     "output_type": "execute_result"
    }
   ],
   "source": [
    "model.tree_.impurity  # gini"
   ]
  },
  {
   "cell_type": "code",
   "execution_count": 77,
   "id": "f51d3469",
   "metadata": {},
   "outputs": [
    {
     "data": {
      "text/plain": [
       "array([[[82., 19.,  5.]],\n",
       "\n",
       "       [[82.,  1.,  0.]],\n",
       "\n",
       "       [[82.,  0.,  0.]],\n",
       "\n",
       "       [[ 0.,  1.,  0.]],\n",
       "\n",
       "       [[ 0., 18.,  5.]],\n",
       "\n",
       "       [[ 0., 18.,  1.]],\n",
       "\n",
       "       [[ 0., 18.,  0.]],\n",
       "\n",
       "       [[ 0.,  0.,  1.]],\n",
       "\n",
       "       [[ 0.,  0.,  4.]]])"
      ]
     },
     "execution_count": 77,
     "metadata": {},
     "output_type": "execute_result"
    }
   ],
   "source": [
    "model.tree_.value"
   ]
  },
  {
   "cell_type": "code",
   "execution_count": 78,
   "id": "d294bf5d",
   "metadata": {},
   "outputs": [
    {
     "data": {
      "text/plain": [
       "array(['Medium', 'High', 'Medium', 'Medium', 'High', 'High', 'High',\n",
       "       'High', 'High', 'High', 'low', 'High', 'High', 'High', 'Medium',\n",
       "       'Medium', 'High', 'High', 'High', 'High', 'High', 'High', 'High',\n",
       "       'High', 'High', 'High', 'High'], dtype=object)"
      ]
     },
     "execution_count": 78,
     "metadata": {},
     "output_type": "execute_result"
    }
   ],
   "source": [
    "predicted = model.predict(X_test)\n",
    "predicted"
   ]
  },
  {
   "cell_type": "code",
   "execution_count": 82,
   "id": "8e71c208",
   "metadata": {},
   "outputs": [
    {
     "data": {
      "text/html": [
       "<div>\n",
       "<style scoped>\n",
       "    .dataframe tbody tr th:only-of-type {\n",
       "        vertical-align: middle;\n",
       "    }\n",
       "\n",
       "    .dataframe tbody tr th {\n",
       "        vertical-align: top;\n",
       "    }\n",
       "\n",
       "    .dataframe thead th {\n",
       "        text-align: right;\n",
       "    }\n",
       "</style>\n",
       "<table border=\"1\" class=\"dataframe\">\n",
       "  <thead>\n",
       "    <tr style=\"text-align: right;\">\n",
       "      <th>col_0</th>\n",
       "      <th>High</th>\n",
       "      <th>Medium</th>\n",
       "      <th>low</th>\n",
       "    </tr>\n",
       "    <tr>\n",
       "      <th>Assessment</th>\n",
       "      <th></th>\n",
       "      <th></th>\n",
       "      <th></th>\n",
       "    </tr>\n",
       "  </thead>\n",
       "  <tbody>\n",
       "    <tr>\n",
       "      <th>High</th>\n",
       "      <td>21</td>\n",
       "      <td>0</td>\n",
       "      <td>0</td>\n",
       "    </tr>\n",
       "    <tr>\n",
       "      <th>Medium</th>\n",
       "      <td>0</td>\n",
       "      <td>5</td>\n",
       "      <td>0</td>\n",
       "    </tr>\n",
       "    <tr>\n",
       "      <th>low</th>\n",
       "      <td>0</td>\n",
       "      <td>0</td>\n",
       "      <td>1</td>\n",
       "    </tr>\n",
       "  </tbody>\n",
       "</table>\n",
       "</div>"
      ],
      "text/plain": [
       "col_0       High  Medium  low\n",
       "Assessment                   \n",
       "High          21       0    0\n",
       "Medium         0       5    0\n",
       "low            0       0    1"
      ]
     },
     "execution_count": 82,
     "metadata": {},
     "output_type": "execute_result"
    }
   ],
   "source": [
    "pd.crosstab(y_test, predicted)"
   ]
  },
  {
   "cell_type": "code",
   "execution_count": null,
   "id": "0e9b3a37",
   "metadata": {},
   "outputs": [],
   "source": []
  }
 ],
 "metadata": {
  "kernelspec": {
   "display_name": "Python 3 (ipykernel)",
   "language": "python",
   "name": "python3"
  },
  "language_info": {
   "codemirror_mode": {
    "name": "ipython",
    "version": 3
   },
   "file_extension": ".py",
   "mimetype": "text/x-python",
   "name": "python",
   "nbconvert_exporter": "python",
   "pygments_lexer": "ipython3",
   "version": "3.9.13"
  }
 },
 "nbformat": 4,
 "nbformat_minor": 5
}
